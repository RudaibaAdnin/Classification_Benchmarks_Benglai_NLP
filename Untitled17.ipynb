{
 "cells": [
  {
   "cell_type": "code",
   "execution_count": 4,
   "metadata": {},
   "outputs": [
    {
     "name": "stdout",
     "output_type": "stream",
     "text": [
      "Exercise 1.1\n",
      "a: 5\n",
      "b: 5.0\n",
      "c: 23\n",
      "d: 6\n",
      "e: 8\n",
      "f: 1.67\n",
      "g: 2\n"
     ]
    }
   ],
   "source": [
    "####Exercise 1.1: Operators (2 points)\n",
    "\n",
    "#Print the output of all operations mentioned below.\n",
    "#See 'Operators and Expressions' chapter in 'A Byte of Python'\n",
    "# (a): 2 plus 3\n",
    "# (b): 2.0 plus 3.0\n",
    "# (c): string '2' append to '3'. OUTPUT: '23'\n",
    "# (d): 2 multiply by 3\n",
    "# (e): 2 to the power of 3\n",
    "# (f): 5 divided by 3 and rounded down\n",
    "# (g): modulo of 5 divided by 3\n",
    "\n",
    "#Answer:\n",
    "print('Exercise 1.1')\n",
    "print('a:', 2 + 3)\n",
    "print('b:', 2.0 + 3.0)\n",
    "#finish by yourself (c)-(g)\n",
    "print('c:', '2' + '3') # Or print('c:', '2' + '3')\n",
    "print('d:', 2 * 3)\n",
    "print('e:', 2 ** 3)\n",
    "print('f:', round(5/3, 2)) # Up to 2 decimal places\n",
    "print('g:', (5 % 3))"
   ]
  },
  {
   "cell_type": "code",
   "execution_count": 2,
   "metadata": {},
   "outputs": [
    {
     "name": "stdout",
     "output_type": "stream",
     "text": [
      "\n",
      "Exercise 1.2\n",
      "Sum:  10.0\n"
     ]
    }
   ],
   "source": [
    "####Exercise 1.2: Type conversion (2 points)\n",
    "\n",
    "#Python provides the built-in functions: int(), float(), str() to convert variables,\n",
    "#e.g., str(3) converts integer 3 to the string '3'. Print the sum of var1, var2, and var3, use type-conversion functions.\n",
    "var1, var2, var3 = '2', '3.0', 5\n",
    "\n",
    "#Answer:\n",
    "print('\\nExercise 1.2')\n",
    "#finish by yourself\n",
    "print('Sum: ', int(var1) + float(var2) + var3)"
   ]
  },
  {
   "cell_type": "code",
   "execution_count": 3,
   "metadata": {},
   "outputs": [
    {
     "name": "stdout",
     "output_type": "stream",
     "text": [
      "\n",
      "Exercise 1.3\n",
      "a: [1, 2, 3, 4]\n",
      "b: 2.3\n",
      "c: ['1.0', 1.3, '1.3', '2.3', '3.0', '1.3']\n",
      "d: ['1.0', 1.3]\n",
      "e: ['1.0', 1.3, '1.3', '2.3', '3.0']\n",
      "f: ['3.0', '1.3']\n"
     ]
    }
   ],
   "source": [
    "####Exercise 1.3: Lists (2 points)\n",
    "\n",
    "#See 'Data Structures - List, Sequence' in 'A Byte of Python'\n",
    "# (a) append two lists. Print the result.\n",
    "list1, list2 = [1, 2], [3, 4]\n",
    "# (b) print the second grade from the list. OUTPUT: '2.3'\n",
    "grades = ['1.0', '2.3', '1.3', '2.3', '3.0', '1.3']\n",
    "# (c) update the second grade in the list to the value '1.3'. Print the updated list\n",
    "#Slicing for the grades list:\n",
    "# (d) print first two grades (use one statement for that)\n",
    "# (e) print all grades except the last one (using one statement)\n",
    "# (f) print last two grades (using one stetement)\n",
    "\n",
    "#Answer:\n",
    "print('\\nExercise 1.3')\n",
    "#finish by yourself\n",
    "print('a:', list1 + list2)\n",
    "print('b:', grades[1])\n",
    "\n",
    "grades[1] = 1.3 # Or grades.insert( 1, 1.3)\n",
    "print('c:', grades) \n",
    "\n",
    "print('d:', grades[:2])\n",
    "print('e:', grades[:5])\n",
    "print('f:', grades[4:])"
   ]
  },
  {
   "cell_type": "code",
   "execution_count": 24,
   "metadata": {},
   "outputs": [
    {
     "name": "stdout",
     "output_type": "stream",
     "text": [
      "\n",
      "Exercise 1.4\n",
      "a:  ['cow', 'dog', 'fox', 'horse', 'penguin', 'zebra']\n",
      "b:  ['cow', 'elephant', 'dog', 'fox', 'horse', 'penguin', 'zebra']\n",
      "c:  ['cow', 'dog', 'fox', 'horse', 'penguin', 'zebra']\n"
     ]
    }
   ],
   "source": [
    "####Exercise 1.4: List methods (2 points)\n",
    "\n",
    "#Your are given a list\n",
    "animals = ['cow', 'dog', 'fox', 'horse', 'penguin']\n",
    "# (a) use .append() method to add 'zebra' to the list. Print the result\n",
    "# (b) use .insert() method to insert 'elephant' in the second position of the list. Print the result\n",
    "# (c) use del to delete the second element from the list. Print the results\n",
    "\n",
    "#Answer:\n",
    "print('\\nExercise 1.4')\n",
    "animals.append('zebra')           #append a string to the list\n",
    "\n",
    "print('a: ', animals)\n",
    "\n",
    "#finish by yourself\n",
    "animals.insert(1, 'elephant') \n",
    "print('b: ', animals)\n",
    "\n",
    "del animals[1]\n",
    "print('c: ', animals) "
   ]
  },
  {
   "cell_type": "code",
   "execution_count": 45,
   "metadata": {},
   "outputs": [
    {
     "name": "stdout",
     "output_type": "stream",
     "text": [
      "\n",
      "Exercise 1.5\n",
      "Welcome, user. I am a very basic calculator!\n",
      "Enter the first number: 2\n",
      "Enter the second number: 6\n",
      "Enter an operator (+, -, *, or /): -\n",
      "-4\n",
      "Enter the first number: 1\n",
      "Enter the second number: 2\n",
      "Enter an operator (+, -, *, or /): t\n"
     ]
    }
   ],
   "source": [
    "####Exercise 1.5: The Very Basic Calculator (2 points)\n",
    "\n",
    "# Write the following program:\n",
    "# - the user is asked to enter the first number\n",
    "# - the user is asked to enter the second number\n",
    "# - the user is asked to enter an operator: \"+\", \"-\", \"*\", or \"/\"\n",
    "# - the calculator computes the answer for entered two numbers and prints out the result.\n",
    "# If user enters an invalid operator, the programs prints nothing.\n",
    "\n",
    "#Sample input/output:\n",
    "\"\"\"\n",
    "Welcome, user. I am a very basic calculator.\n",
    "Enter the first number: 2\n",
    "Enter the second number: 6\n",
    "Enter operator (+, -, *, or /): -\n",
    "-4.0\n",
    "\"\"\"\n",
    "\n",
    "#Answer:\n",
    "print('\\nExercise 1.5')\n",
    "print(\"Welcome, user. I am a very basic calculator!\")\n",
    "\n",
    "# Example 1\n",
    "first_number = input(\"Enter the first number: \")\n",
    "second_number = input(\"Enter the second number: \")\n",
    "operator = input(\"Enter an operator (+, -, *, or /): \")\n",
    "\n",
    "if operator == '+':\n",
    "    print(int(first_number) + int(second_number))\n",
    "elif operator == '-':\n",
    "    print(int(first_number) - int(second_number))\n",
    "elif operator == '*':\n",
    "    print(int(first_number) * int(second_number))  \n",
    "elif operator == '/':\n",
    "    print(int(first_number) / int(second_number))\n",
    "\n",
    "#finish by yourself\n",
    "# Example 2\n",
    "first_number = input(\"Enter the first number: \")\n",
    "second_number = input(\"Enter the second number: \")\n",
    "operator = input(\"Enter an operator (+, -, *, or /): \")\n",
    "\n",
    "if operator == '+':\n",
    "    print(int(first_number) + int(second_number))\n",
    "elif operator == '-':\n",
    "    print(int(first_number) - int(second_number))\n",
    "elif operator == '*':\n",
    "    print(int(first_number) * int(second_number))  \n",
    "elif operator == '/':\n",
    "    print(int(first_number) / int(second_number))"
   ]
  },
  {
   "cell_type": "code",
   "execution_count": null,
   "metadata": {},
   "outputs": [
    {
     "name": "stdout",
     "output_type": "stream",
     "text": [
      "\n",
      "Exercise 1.6\n",
      "What is your weight (kg)?hello\n",
      "Please enter numbers.\n",
      "What is your weight (kg)?-2\n",
      "What is your height (cm)?10\n",
      "Weight and height should be greater than zero.\n",
      "What is your weight (kg)?55\n",
      "What is your height (cm)?175\n",
      "Your BMI is 17.96, you are skinny as a rail.\n",
      "What is your weight (kg)?74\n",
      "What is your height (cm)?175\n",
      "Your BMI is 24.16, you are fit as a butcher's dog.\n",
      "What is your weight (kg)?100\n",
      "What is your height (cm)?175\n",
      "Your BMI is 32.65, you are as plum as a partridge.\n"
     ]
    }
   ],
   "source": [
    "####Exercise 1.6: Judgmental BMI (2 points)\n",
    "\n",
    "# The body mass index (BMI) is calculated as a person’s weight (in kg), divided\n",
    "# by the square of the person’s height (in m). A BMI in the range 19–25, inclusive, is\n",
    "# considered healthy. Write a program that calculates a person’s BMI and prints a message\n",
    "# telling whether the BMI is above, within, or below the healthy range.\n",
    "# Do not forget an input validation. User input should be:\n",
    "# - numbers - use try...except (see 'Exceptions' in 'A Byte of Python');\n",
    "# - greater than zero;\n",
    "# Use an infinite while-loop with the break statement to ask the user for input until she enters valid values (see 'Control Flow' in 'A Byte of Python').\n",
    "\n",
    "#Sample input/output:\n",
    "\"\"\"\n",
    "What is your weight (kg)? hello\n",
    "Please enter numbers.\n",
    "What is your weight (kg)? -2\n",
    "What is your height (cm)? 10\n",
    "Weight and height should be greater than zero.\n",
    "What is your weight (kg)? 55\n",
    "What is your height (cm)? 175\n",
    "Your BMI is 17.96, you are skinny as a rail.\n",
    "\n",
    "What is your weight (kg)? 74\n",
    "What is your height (cm)? 175\n",
    "Your BMI is 24.16, you are fit as a butcher's dog.\n",
    "\n",
    "What is your weight (kg)? 100\n",
    "What is your height (cm)? 175\n",
    "Your BMI is 32.65, you are as plum as a partridge.\n",
    "\"\"\"\n",
    "\n",
    "#Answer:\n",
    "print('\\nExercise 1.6')\n",
    "#finish by yourself\n",
    "\n",
    "running = True\n",
    "\n",
    "while(running):\n",
    "    try:\n",
    "        weight = int(input('What is your weight (kg)?'))  \n",
    "        height = int(input('What is your height (cm)?'))\n",
    "        if(height < 0 or weight < 0):\n",
    "            print('Weight and height should be greater than zero.')\n",
    "            continue\n",
    "        \n",
    "        BMI = round((weight) / ((height/100)*(height/100)), 2)\n",
    "        \n",
    "        if(BMI < 19):\n",
    "            print(\"Your BMI is \" + str(BMI) + \", you are skinny as a rail.\")\n",
    "        if(BMI >= 19 and BMI <= 25):\n",
    "            print(\"Your BMI is \" + str(BMI) + \", you are fit as a butcher's dog.\")\n",
    "        if(BMI > 25):\n",
    "            print(\"Your BMI is \" + str(BMI) + \", you are as plum as a partridge.\")\n",
    "            \n",
    "    except ValueError:\n",
    "        print('Please enter numbers.')\n",
    "        continue\n",
    "    else:\n",
    "        continue"
   ]
  },
  {
   "cell_type": "code",
   "execution_count": null,
   "metadata": {},
   "outputs": [],
   "source": [
    "    \n",
    "    try:\n",
    "        height = input('What is your height (cm)?')\n",
    "        if(type(height) is int):\n",
    "            break\n",
    "    except ValueError:\n",
    "        print('Please enter numbers.')\n",
    "        height = input('What is your height (cm)?')\n",
    "        \n",
    "    try:\n",
    "        weight = int(weight)\n",
    "        height = int(height)\n",
    "        if(type(height) is int):\n",
    "            break\n",
    "    except ValueError:\n",
    "        if(height < 0 or weight < 0):\n",
    "            print('Weight and height should be greater than zero.')    \n",
    "            weight = input('What is your weight (kg)?')\n",
    "            height = input('What is your height (cm)?')"
   ]
  },
  {
   "cell_type": "code",
   "execution_count": 10,
   "metadata": {},
   "outputs": [
    {
     "name": "stdout",
     "output_type": "stream",
     "text": [
      "\n",
      "Exercise 1.7\n",
      "What is the height of the building (m): 100\n",
      "At 0 second(s), the balloon is at height: 100.0 meters\n",
      "At 1 second(s), the balloon is at height: 95.1 meters\n",
      "At 2 second(s), the balloon is at height: 75.5 meters\n",
      "At 3 second(s), the balloon is at height: 31.4 meters\n"
     ]
    }
   ],
   "source": [
    "####Exercise 1.7: Physics simulation (3 points)\n",
    "\n",
    "# Write a simulation of a water balloon being dropped from a building:\n",
    "# - the user is asked for the height of the building in meters\n",
    "# - the program outputs the height of the balloon above the ground for every second the balloon is falling.\n",
    "#  Assume normal gravity (g = 9.8 m per sec2)\n",
    "#  The balloon smashes up at the ground level.\n",
    "# TIP: distance_fallen = (g * (seconds_fallen ** 2)) / 2\n",
    "\n",
    "#Sample input/output:\n",
    "\"\"\"\n",
    "What is the height of the building (m): 100\n",
    "At 0 second(s), the balloon is at height: 100.0 meters.\n",
    "At 1 second(s), the balloon is at height: 95.1 meters.\n",
    "At 2 second(s), the balloon is at height: 80.4 meters.\n",
    "At 3 second(s), the balloon is at height: 55.9 meters.\n",
    "At 4 second(s), the balloon is at height: 21.6 meters.\n",
    "\"\"\"\n",
    "\n",
    "# Answer:\n",
    "print('\\nExercise 1.7')\n",
    "building_height = int(input(\"What is the height of the building (m): \"))\n",
    "g = 9.8\n",
    "\n",
    "seconds_fallen = 0\n",
    "\n",
    "while building_height > 0:\n",
    "    distance_fallen = (g * (seconds_fallen ** 2)) / 2\n",
    "    building_height = building_height - distance_fallen\n",
    "    if(building_height == 0 or building_height < 0):\n",
    "        break    \n",
    "    \n",
    "    print('At ' + str(seconds_fallen) + ' second(s), the balloon is at height: '+ str(building_height) + ' meters')\n",
    "    seconds_fallen = seconds_fallen + 1 "
   ]
  }
 ],
 "metadata": {
  "kernelspec": {
   "display_name": "Python 3",
   "language": "python",
   "name": "python3"
  },
  "language_info": {
   "codemirror_mode": {
    "name": "ipython",
    "version": 3
   },
   "file_extension": ".py",
   "mimetype": "text/x-python",
   "name": "python",
   "nbconvert_exporter": "python",
   "pygments_lexer": "ipython3",
   "version": "3.5.2"
  }
 },
 "nbformat": 4,
 "nbformat_minor": 2
}
